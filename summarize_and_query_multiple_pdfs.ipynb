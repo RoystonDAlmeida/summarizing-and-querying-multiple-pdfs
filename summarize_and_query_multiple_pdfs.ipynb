{
 "cells": [
  {
   "cell_type": "markdown",
   "id": "62b929b5-e2f9-4590-afed-bcccf5260012",
   "metadata": {},
   "source": [
    "# Summarizing multiple PDFs"
   ]
  },
  {
   "cell_type": "code",
   "execution_count": null,
   "id": "0387286e-a2e3-4f63-8a6c-4ef5015e6bc0",
   "metadata": {},
   "outputs": [],
   "source": [
    "# !pip install langchain\n",
    "# !pip install langchain-groq\n",
    "# !pip install pypdf\n",
    "# !pip install chromadb\n",
    "# !pip install transformers"
   ]
  },
  {
   "cell_type": "code",
   "execution_count": 20,
   "id": "9b8ff160-1843-47aa-8f85-e2f8555fccb3",
   "metadata": {},
   "outputs": [],
   "source": [
    "# Importing the dependencies\n",
    "from langchain.chains.summarize import load_summarize_chain\n",
    "from langchain.document_loaders import PyPDFLoader\n",
    "from langchain_groq import ChatGroq\n",
    "from langchain import PromptTemplate\n",
    "import glob\n",
    "import os"
   ]
  },
  {
   "cell_type": "code",
   "execution_count": 21,
   "id": "472d1570-7dff-4f09-8bcb-73e0b224cc19",
   "metadata": {},
   "outputs": [],
   "source": [
    "# Import dotenv package for environment variables\n",
    "from dotenv import load_dotenv\n",
    "\n",
    "# Load environment variables from .env file\n",
    "load_dotenv()\n",
    "\n",
    "# Define the LLM\n",
    "llm = ChatGroq(model_name=\"llama-3.1-70b-versatile\", temperature=0.2, groq_api_key=os.getenv(\"GROQ_API_KEY\"))\n",
    "def summarize_pdfs_from_folder(pdfs_folder):\n",
    "    summaries = []\n",
    "    for pdf_file in glob.glob(pdfs_folder + \"/*.pdf\"):\n",
    "        loader = PyPDFLoader(pdf_file)\n",
    "        docs = loader.load_and_split()\n",
    "        chain = load_summarize_chain(llm, chain_type=\"map_reduce\")\n",
    "        summary = chain.run(docs)\n",
    "        print(\"Summary for: \", pdf_file)\n",
    "        print(summary)\n",
    "        print(\"\\n\")\n",
    "        summaries.append(summary)\n",
    "    \n",
    "    return summaries"
   ]
  },
  {
   "cell_type": "code",
   "execution_count": 22,
   "id": "7a93b67a-9c7b-45e2-a959-391e854006c4",
   "metadata": {},
   "outputs": [],
   "source": [
    "def custom_summary(pdf_folder, custom_prompt):\n",
    "    summaries = []\n",
    "    for pdf_file in glob.glob(pdf_folder + \"/*.pdf\"):\n",
    "        loader = PyPDFLoader(pdf_file)\n",
    "        docs = loader.load_and_split()\n",
    "        prompt_template = custom_prompt + \"\"\"\n",
    "\n",
    "        {text}\n",
    "\n",
    "        SUMMARY:\"\"\"\n",
    "        PROMPT = PromptTemplate(template=prompt_template, input_variables=[\"text\"])\n",
    "        chain = load_summarize_chain(llm, chain_type=\"map_reduce\", \n",
    "                                    map_prompt=PROMPT, combine_prompt=PROMPT)\n",
    "        summary_output = chain({\"input_documents\": docs},return_only_outputs=True)[\"output_text\"]\n",
    "        summaries.append(summary_output)\n",
    "        \n",
    "    return summaries"
   ]
  },
  {
   "cell_type": "code",
   "execution_count": null,
   "id": "b2eed188-7f22-41c4-8c47-6d79292d1040",
   "metadata": {},
   "outputs": [],
   "source": [
    "summaries = summarize_pdfs_from_folder(\"./pdfs\")"
   ]
  },
  {
   "cell_type": "code",
   "execution_count": null,
   "id": "65c81810-3e4f-49d6-a59b-40b318f64ad8",
   "metadata": {},
   "outputs": [],
   "source": [
    "# CUSTOM_PROMPT = \"Write a concise summary of the following paper with this structure: Problem being solved; Approach; Main results; Main Discussion Points\"\n",
    "# custom_summaries = custom_summary(\"./pdfs\", custom_prompt=CUSTOM_PROMPT)\n",
    "# # Save all summaries into one .txt file\n",
    "# with open(\"custom_summaries.txt\", \"w\") as f:\n",
    "#     for summary in custom_summaries:\n",
    "#         f.write(summary + \"\\n\"*3)"
   ]
  },
  {
   "cell_type": "code",
   "execution_count": 24,
   "id": "98f7a258-b9ce-468b-a526-d8fdec56a898",
   "metadata": {},
   "outputs": [],
   "source": [
    "# Save all summaries into one .txt file\n",
    "with open(\"summaries.txt\", \"w\") as f:\n",
    "    for summary in summaries:\n",
    "        f.write(summary+\"\\n\"*3)"
   ]
  },
  {
   "cell_type": "markdown",
   "id": "27d1efd2-f483-4eef-b4cb-1159fc9a5b9e",
   "metadata": {},
   "source": [
    "# Querying Multiple PDFs"
   ]
  },
  {
   "cell_type": "code",
   "execution_count": 65,
   "id": "5219c3cc-def7-4250-8b9a-9e5bcdcd9a82",
   "metadata": {},
   "outputs": [],
   "source": [
    "from langchain.indexes import VectorstoreIndexCreator\n",
    "from langchain.document_loaders import PyPDFDirectoryLoader\n",
    "from langchain_community.embeddings import HuggingFaceBgeEmbeddings"
   ]
  },
  {
   "cell_type": "code",
   "execution_count": null,
   "id": "29dee030-c95f-468c-bbbc-1ee397cb80df",
   "metadata": {},
   "outputs": [],
   "source": [
    "# Load the embeddings model\n",
    "embeddings = HuggingFaceBgeEmbeddings(model_name=\"BAAI/bge-small-en\")"
   ]
  },
  {
   "cell_type": "code",
   "execution_count": null,
   "id": "5af4a06b-0901-4441-b500-31a733f2c683",
   "metadata": {},
   "outputs": [],
   "source": [
    "# Load the PDFs in the pdfs directory\n",
    "loader = PyPDFDirectoryLoader(\"./pdfs/\")\n",
    "docs = loader.load()\n",
    "# print(docs)"
   ]
  },
  {
   "cell_type": "code",
   "execution_count": null,
   "id": "5637f358-d37b-4c82-bce7-ee4b62c07a4f",
   "metadata": {},
   "outputs": [],
   "source": [
    "# Create the vector store index with the Hugging Face embeddings\n",
    "index = VectorstoreIndexCreator(embedding=embeddings).from_loaders([loader])\n",
    "# print(index)"
   ]
  },
  {
   "cell_type": "code",
   "execution_count": null,
   "id": "faed319e-fa94-4b4a-a30c-dfa31d83b4bd",
   "metadata": {},
   "outputs": [],
   "source": [
    "query = \"What are the key trends on LLM from 2018 to 2023?\"\n",
    "# Invoke the index vector store using the query\n",
    "index.query(query)"
   ]
  }
 ],
 "metadata": {
  "kernelspec": {
   "display_name": "Python 3 (ipykernel)",
   "language": "python",
   "name": "python3"
  },
  "language_info": {
   "codemirror_mode": {
    "name": "ipython",
    "version": 3
   },
   "file_extension": ".py",
   "mimetype": "text/x-python",
   "name": "python",
   "nbconvert_exporter": "python",
   "pygments_lexer": "ipython3",
   "version": "3.8.10"
  }
 },
 "nbformat": 4,
 "nbformat_minor": 5
}
